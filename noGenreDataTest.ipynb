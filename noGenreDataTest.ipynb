{
 "cells": [
  {
   "cell_type": "code",
   "execution_count": 1,
   "metadata": {},
   "outputs": [],
   "source": [
    "import numpy as pd\n",
    "import pandas as pd\n",
    "import modelLoader\n",
    "import dataLoader\n",
    "import operator"
   ]
  },
  {
   "cell_type": "code",
   "execution_count": 2,
   "metadata": {},
   "outputs": [],
   "source": [
    "pickle = modelLoader.fileManager()\n",
    "l = dataLoader.Dataset()"
   ]
  },
  {
   "cell_type": "code",
   "execution_count": 3,
   "metadata": {},
   "outputs": [
    {
     "data": {
      "text/plain": [
       "sklearn.pipeline.Pipeline"
      ]
     },
     "execution_count": 3,
     "metadata": {},
     "output_type": "execute_result"
    }
   ],
   "source": [
    "#load model\n",
    "model = pickle.loadIt('Models/version2.gz')\n",
    "type(model)"
   ]
  },
  {
   "cell_type": "code",
   "execution_count": 4,
   "metadata": {},
   "outputs": [
    {
     "data": {
      "text/plain": [
       "(7235, 8)"
      ]
     },
     "execution_count": 4,
     "metadata": {},
     "output_type": "execute_result"
    }
   ],
   "source": [
    "#load no genre data \n",
    "noGenre = pickle.loadIt('Data/noGenreData.pkl')\n",
    "noGenre.shape\n",
    "#this data is a collection of all the none genre entries including 'unknown', '', ' ', [140], [144], '&'"
   ]
  },
  {
   "cell_type": "code",
   "execution_count": 5,
   "metadata": {},
   "outputs": [
    {
     "data": {
      "text/plain": [
       "Index(['Release Year', 'Title', 'Origin/Ethnicity', 'Director', 'Cast',\n",
       "       'Genre', 'Wiki Page', 'Plot'],\n",
       "      dtype='object')"
      ]
     },
     "execution_count": 5,
     "metadata": {},
     "output_type": "execute_result"
    }
   ],
   "source": [
    "noGenre.columns"
   ]
  },
  {
   "cell_type": "code",
   "execution_count": 6,
   "metadata": {},
   "outputs": [
    {
     "data": {
      "text/html": [
       "<div>\n",
       "<style scoped>\n",
       "    .dataframe tbody tr th:only-of-type {\n",
       "        vertical-align: middle;\n",
       "    }\n",
       "\n",
       "    .dataframe tbody tr th {\n",
       "        vertical-align: top;\n",
       "    }\n",
       "\n",
       "    .dataframe thead th {\n",
       "        text-align: right;\n",
       "    }\n",
       "</style>\n",
       "<table border=\"1\" class=\"dataframe\">\n",
       "  <thead>\n",
       "    <tr style=\"text-align: right;\">\n",
       "      <th></th>\n",
       "      <th>Release Year</th>\n",
       "      <th>Title</th>\n",
       "      <th>Origin/Ethnicity</th>\n",
       "      <th>Director</th>\n",
       "      <th>Cast</th>\n",
       "      <th>Genre</th>\n",
       "      <th>Wiki Page</th>\n",
       "      <th>Plot</th>\n",
       "    </tr>\n",
       "  </thead>\n",
       "  <tbody>\n",
       "    <tr>\n",
       "      <th>0</th>\n",
       "      <td>1901</td>\n",
       "      <td>Kansas Saloon Smashers</td>\n",
       "      <td>American</td>\n",
       "      <td>Unknown</td>\n",
       "      <td>NaN</td>\n",
       "      <td>unknown</td>\n",
       "      <td>https://en.wikipedia.org/wiki/Kansas_Saloon_Sm...</td>\n",
       "      <td>A bartender is working at a saloon, serving dr...</td>\n",
       "    </tr>\n",
       "    <tr>\n",
       "      <th>1</th>\n",
       "      <td>1901</td>\n",
       "      <td>Love by the Light of the Moon</td>\n",
       "      <td>American</td>\n",
       "      <td>Unknown</td>\n",
       "      <td>NaN</td>\n",
       "      <td>unknown</td>\n",
       "      <td>https://en.wikipedia.org/wiki/Love_by_the_Ligh...</td>\n",
       "      <td>The moon, painted with a smiling face hangs ov...</td>\n",
       "    </tr>\n",
       "    <tr>\n",
       "      <th>2</th>\n",
       "      <td>1901</td>\n",
       "      <td>The Martyred Presidents</td>\n",
       "      <td>American</td>\n",
       "      <td>Unknown</td>\n",
       "      <td>NaN</td>\n",
       "      <td>unknown</td>\n",
       "      <td>https://en.wikipedia.org/wiki/The_Martyred_Pre...</td>\n",
       "      <td>The film, just over a minute long, is composed...</td>\n",
       "    </tr>\n",
       "    <tr>\n",
       "      <th>3</th>\n",
       "      <td>1901</td>\n",
       "      <td>Terrible Teddy, the Grizzly King</td>\n",
       "      <td>American</td>\n",
       "      <td>Unknown</td>\n",
       "      <td>NaN</td>\n",
       "      <td>unknown</td>\n",
       "      <td>https://en.wikipedia.org/wiki/Terrible_Teddy,_...</td>\n",
       "      <td>Lasting just 61 seconds and consisting of two ...</td>\n",
       "    </tr>\n",
       "    <tr>\n",
       "      <th>4</th>\n",
       "      <td>1902</td>\n",
       "      <td>Jack and the Beanstalk</td>\n",
       "      <td>American</td>\n",
       "      <td>George S. Fleming, Edwin S. Porter</td>\n",
       "      <td>NaN</td>\n",
       "      <td>unknown</td>\n",
       "      <td>https://en.wikipedia.org/wiki/Jack_and_the_Bea...</td>\n",
       "      <td>The earliest known adaptation of the classic f...</td>\n",
       "    </tr>\n",
       "  </tbody>\n",
       "</table>\n",
       "</div>"
      ],
      "text/plain": [
       "   Release Year                             Title Origin/Ethnicity  \\\n",
       "0          1901            Kansas Saloon Smashers         American   \n",
       "1          1901     Love by the Light of the Moon         American   \n",
       "2          1901           The Martyred Presidents         American   \n",
       "3          1901  Terrible Teddy, the Grizzly King         American   \n",
       "4          1902            Jack and the Beanstalk         American   \n",
       "\n",
       "                             Director Cast    Genre  \\\n",
       "0                             Unknown  NaN  unknown   \n",
       "1                             Unknown  NaN  unknown   \n",
       "2                             Unknown  NaN  unknown   \n",
       "3                             Unknown  NaN  unknown   \n",
       "4  George S. Fleming, Edwin S. Porter  NaN  unknown   \n",
       "\n",
       "                                           Wiki Page  \\\n",
       "0  https://en.wikipedia.org/wiki/Kansas_Saloon_Sm...   \n",
       "1  https://en.wikipedia.org/wiki/Love_by_the_Ligh...   \n",
       "2  https://en.wikipedia.org/wiki/The_Martyred_Pre...   \n",
       "3  https://en.wikipedia.org/wiki/Terrible_Teddy,_...   \n",
       "4  https://en.wikipedia.org/wiki/Jack_and_the_Bea...   \n",
       "\n",
       "                                                Plot  \n",
       "0  A bartender is working at a saloon, serving dr...  \n",
       "1  The moon, painted with a smiling face hangs ov...  \n",
       "2  The film, just over a minute long, is composed...  \n",
       "3  Lasting just 61 seconds and consisting of two ...  \n",
       "4  The earliest known adaptation of the classic f...  "
      ]
     },
     "execution_count": 6,
     "metadata": {},
     "output_type": "execute_result"
    }
   ],
   "source": [
    "#pd.options.display.max_rows = noGenre.shape[0]\n",
    "noGenre.head()"
   ]
  },
  {
   "cell_type": "code",
   "execution_count": 7,
   "metadata": {},
   "outputs": [
    {
     "data": {
      "text/html": [
       "<div>\n",
       "<style scoped>\n",
       "    .dataframe tbody tr th:only-of-type {\n",
       "        vertical-align: middle;\n",
       "    }\n",
       "\n",
       "    .dataframe tbody tr th {\n",
       "        vertical-align: top;\n",
       "    }\n",
       "\n",
       "    .dataframe thead th {\n",
       "        text-align: right;\n",
       "    }\n",
       "</style>\n",
       "<table border=\"1\" class=\"dataframe\">\n",
       "  <thead>\n",
       "    <tr style=\"text-align: right;\">\n",
       "      <th></th>\n",
       "      <th>Release Year</th>\n",
       "      <th>Title</th>\n",
       "      <th>Origin/Ethnicity</th>\n",
       "      <th>Director</th>\n",
       "      <th>Cast</th>\n",
       "      <th>Genre</th>\n",
       "      <th>Wiki Page</th>\n",
       "      <th>Plot</th>\n",
       "    </tr>\n",
       "  </thead>\n",
       "  <tbody>\n",
       "    <tr>\n",
       "      <th>34252</th>\n",
       "      <td>2015</td>\n",
       "      <td>He's a Dragon</td>\n",
       "      <td>Russian</td>\n",
       "      <td>Indar Dzhendubaev</td>\n",
       "      <td>Maria Poezzhaeva,\\r\\nMatvey Lykov,\\r\\nStanisla...</td>\n",
       "      <td></td>\n",
       "      <td>https://en.wikipedia.org/wiki/He%27s_a_Dragon</td>\n",
       "      <td>Princess Miroslava (Maria Poezzhaeva), called ...</td>\n",
       "    </tr>\n",
       "    <tr>\n",
       "      <th>28419</th>\n",
       "      <td>2013</td>\n",
       "      <td>Rajesh Nair</td>\n",
       "      <td>Malayalam</td>\n",
       "      <td>Rima Kallingal, Parthiban, Vijay Babu</td>\n",
       "      <td>Drama</td>\n",
       "      <td>[144]</td>\n",
       "      <td>https://en.wikipedia.org/wiki/Escape_from_Uganda</td>\n",
       "      <td>Shikha Samuel (Rima Kallingal), along with her...</td>\n",
       "    </tr>\n",
       "    <tr>\n",
       "      <th>28417</th>\n",
       "      <td>2013</td>\n",
       "      <td>Kamal</td>\n",
       "      <td>Malayalam</td>\n",
       "      <td>Jayaram, Remya Nambeesan</td>\n",
       "      <td>Drama</td>\n",
       "      <td>[140]</td>\n",
       "      <td>https://en.wikipedia.org/wiki/Nadan</td>\n",
       "      <td>Nadan is the story of a popular drama troupe o...</td>\n",
       "    </tr>\n",
       "    <tr>\n",
       "      <th>27101</th>\n",
       "      <td>2017</td>\n",
       "      <td>R.S. Prasanna</td>\n",
       "      <td>Bollywood</td>\n",
       "      <td>Ayushmann Khurrana, Bhumi Pednekar, Brijendra ...</td>\n",
       "      <td>Drama/Comedy</td>\n",
       "      <td>&amp;</td>\n",
       "      <td>https://en.wikipedia.org/wiki/Shubh_Mangal_Sav...</td>\n",
       "      <td>The story is about Mudit Sharma (Ayushmann Khu...</td>\n",
       "    </tr>\n",
       "    <tr>\n",
       "      <th>27106</th>\n",
       "      <td>2017</td>\n",
       "      <td>Sanjay Chhel</td>\n",
       "      <td>Bollywood</td>\n",
       "      <td>Rishi Kapoor, Paresh Rawal, Vir Das, Prem Chop...</td>\n",
       "      <td>Comedy/drama</td>\n",
       "      <td>&amp;</td>\n",
       "      <td>https://en.wikipedia.org/wiki/Patel_Ki_Punjabi...</td>\n",
       "      <td>The story is about a Punjabi, played by Rishi ...</td>\n",
       "    </tr>\n",
       "  </tbody>\n",
       "</table>\n",
       "</div>"
      ],
      "text/plain": [
       "       Release Year          Title Origin/Ethnicity  \\\n",
       "34252          2015  He's a Dragon          Russian   \n",
       "28419          2013    Rajesh Nair        Malayalam   \n",
       "28417          2013          Kamal        Malayalam   \n",
       "27101          2017  R.S. Prasanna        Bollywood   \n",
       "27106          2017   Sanjay Chhel        Bollywood   \n",
       "\n",
       "                                                Director  \\\n",
       "34252                                  Indar Dzhendubaev   \n",
       "28419              Rima Kallingal, Parthiban, Vijay Babu   \n",
       "28417                           Jayaram, Remya Nambeesan   \n",
       "27101  Ayushmann Khurrana, Bhumi Pednekar, Brijendra ...   \n",
       "27106  Rishi Kapoor, Paresh Rawal, Vir Das, Prem Chop...   \n",
       "\n",
       "                                                    Cast  Genre  \\\n",
       "34252  Maria Poezzhaeva,\\r\\nMatvey Lykov,\\r\\nStanisla...          \n",
       "28419                                              Drama  [144]   \n",
       "28417                                              Drama  [140]   \n",
       "27101                                       Drama/Comedy      &   \n",
       "27106                                       Comedy/drama      &   \n",
       "\n",
       "                                               Wiki Page  \\\n",
       "34252      https://en.wikipedia.org/wiki/He%27s_a_Dragon   \n",
       "28419   https://en.wikipedia.org/wiki/Escape_from_Uganda   \n",
       "28417                https://en.wikipedia.org/wiki/Nadan   \n",
       "27101  https://en.wikipedia.org/wiki/Shubh_Mangal_Sav...   \n",
       "27106  https://en.wikipedia.org/wiki/Patel_Ki_Punjabi...   \n",
       "\n",
       "                                                    Plot  \n",
       "34252  Princess Miroslava (Maria Poezzhaeva), called ...  \n",
       "28419  Shikha Samuel (Rima Kallingal), along with her...  \n",
       "28417  Nadan is the story of a popular drama troupe o...  \n",
       "27101  The story is about Mudit Sharma (Ayushmann Khu...  \n",
       "27106  The story is about a Punjabi, played by Rishi ...  "
      ]
     },
     "execution_count": 7,
     "metadata": {},
     "output_type": "execute_result"
    }
   ],
   "source": [
    "noGenre.tail()"
   ]
  },
  {
   "cell_type": "code",
   "execution_count": 8,
   "metadata": {},
   "outputs": [
    {
     "data": {
      "text/plain": [
       "7235"
      ]
     },
     "execution_count": 8,
     "metadata": {},
     "output_type": "execute_result"
    }
   ],
   "source": [
    "#make predicitons on unknown data\n",
    "pred = model.predict(noGenre.Plot)\n",
    "#create dataframe from predictions\n",
    "dfPred = pd.DataFrame(pred, columns = ['predicted Genres'])\n",
    "dfPred.shape[0]"
   ]
  },
  {
   "cell_type": "code",
   "execution_count": 9,
   "metadata": {},
   "outputs": [
    {
     "data": {
      "text/html": [
       "<div>\n",
       "<style scoped>\n",
       "    .dataframe tbody tr th:only-of-type {\n",
       "        vertical-align: middle;\n",
       "    }\n",
       "\n",
       "    .dataframe tbody tr th {\n",
       "        vertical-align: top;\n",
       "    }\n",
       "\n",
       "    .dataframe thead th {\n",
       "        text-align: right;\n",
       "    }\n",
       "</style>\n",
       "<table border=\"1\" class=\"dataframe\">\n",
       "  <thead>\n",
       "    <tr style=\"text-align: right;\">\n",
       "      <th></th>\n",
       "      <th>predicted Genres</th>\n",
       "    </tr>\n",
       "  </thead>\n",
       "  <tbody>\n",
       "    <tr>\n",
       "      <th>0</th>\n",
       "      <td>drama</td>\n",
       "    </tr>\n",
       "    <tr>\n",
       "      <th>1</th>\n",
       "      <td>drama</td>\n",
       "    </tr>\n",
       "    <tr>\n",
       "      <th>2</th>\n",
       "      <td>drama</td>\n",
       "    </tr>\n",
       "    <tr>\n",
       "      <th>3</th>\n",
       "      <td>drama</td>\n",
       "    </tr>\n",
       "    <tr>\n",
       "      <th>4</th>\n",
       "      <td>drama</td>\n",
       "    </tr>\n",
       "    <tr>\n",
       "      <th>...</th>\n",
       "      <td>...</td>\n",
       "    </tr>\n",
       "    <tr>\n",
       "      <th>95</th>\n",
       "      <td>drama</td>\n",
       "    </tr>\n",
       "    <tr>\n",
       "      <th>96</th>\n",
       "      <td>drama</td>\n",
       "    </tr>\n",
       "    <tr>\n",
       "      <th>97</th>\n",
       "      <td>drama</td>\n",
       "    </tr>\n",
       "    <tr>\n",
       "      <th>98</th>\n",
       "      <td>drama</td>\n",
       "    </tr>\n",
       "    <tr>\n",
       "      <th>99</th>\n",
       "      <td>drama</td>\n",
       "    </tr>\n",
       "  </tbody>\n",
       "</table>\n",
       "<p>100 rows × 1 columns</p>\n",
       "</div>"
      ],
      "text/plain": [
       "   predicted Genres\n",
       "0             drama\n",
       "1             drama\n",
       "2             drama\n",
       "3             drama\n",
       "4             drama\n",
       "..              ...\n",
       "95            drama\n",
       "96            drama\n",
       "97            drama\n",
       "98            drama\n",
       "99            drama\n",
       "\n",
       "[100 rows x 1 columns]"
      ]
     },
     "execution_count": 9,
     "metadata": {},
     "output_type": "execute_result"
    }
   ],
   "source": [
    "dfPred.head(100)"
   ]
  },
  {
   "cell_type": "code",
   "execution_count": 10,
   "metadata": {},
   "outputs": [],
   "source": [
    "#model seems biased towards drama, possibly because of more entries in original training set for drama \n",
    "#model also makes predictions for 'unknown' might be worth removing these for training? \n",
    "\n",
    "#count number of predictions for each genre\n",
    "predGenreCount = {}\n",
    "\n",
    "for genre in pred:\n",
    "    if genre in predGenreCount:\n",
    "        predGenreCount[genre] += 1\n",
    "    else:\n",
    "        predGenreCount[genre] = 1"
   ]
  },
  {
   "cell_type": "code",
   "execution_count": 11,
   "metadata": {},
   "outputs": [
    {
     "name": "stdout",
     "output_type": "stream",
     "text": [
      "{'drama': 3602, 'comedy': 109, 'unknown': 3524}\n"
     ]
    }
   ],
   "source": [
    "print(predGenreCount)\n",
    "#model only predicted drama, comedy and unknown from the data with no genres"
   ]
  },
  {
   "cell_type": "code",
   "execution_count": 12,
   "metadata": {},
   "outputs": [
    {
     "data": {
      "text/plain": [
       "(34886, 8)"
      ]
     },
     "execution_count": 12,
     "metadata": {},
     "output_type": "execute_result"
    }
   ],
   "source": [
    "#load original dataset \n",
    "data = l.load_stored()\n",
    "\n",
    "data.shape"
   ]
  },
  {
   "cell_type": "code",
   "execution_count": 13,
   "metadata": {},
   "outputs": [
    {
     "data": {
      "text/plain": [
       "(182,)"
      ]
     },
     "execution_count": 13,
     "metadata": {},
     "output_type": "execute_result"
    }
   ],
   "source": [
    "genres = pd.unique(data.Genre)\n",
    "genres.shape\n",
    "#total number of unique genres"
   ]
  },
  {
   "cell_type": "code",
   "execution_count": 14,
   "metadata": {},
   "outputs": [
    {
     "data": {
      "text/html": [
       "<div>\n",
       "<style scoped>\n",
       "    .dataframe tbody tr th:only-of-type {\n",
       "        vertical-align: middle;\n",
       "    }\n",
       "\n",
       "    .dataframe tbody tr th {\n",
       "        vertical-align: top;\n",
       "    }\n",
       "\n",
       "    .dataframe thead th {\n",
       "        text-align: right;\n",
       "    }\n",
       "</style>\n",
       "<table border=\"1\" class=\"dataframe\">\n",
       "  <thead>\n",
       "    <tr style=\"text-align: right;\">\n",
       "      <th></th>\n",
       "      <th>drama</th>\n",
       "      <th>comedy</th>\n",
       "      <th>unknown</th>\n",
       "      <th>action</th>\n",
       "      <th>horror</th>\n",
       "      <th>thriller</th>\n",
       "      <th></th>\n",
       "      <th>romance</th>\n",
       "      <th>western</th>\n",
       "      <th>crime</th>\n",
       "      <th>...</th>\n",
       "      <th>kalyan</th>\n",
       "      <th>allari</th>\n",
       "      <th>rajendra</th>\n",
       "      <th>by</th>\n",
       "      <th>keiji</th>\n",
       "      <th>jidai</th>\n",
       "      <th>chanbara</th>\n",
       "      <th>mocatsu</th>\n",
       "      <th>splatter</th>\n",
       "      <th>dark</th>\n",
       "    </tr>\n",
       "  </thead>\n",
       "  <tbody>\n",
       "    <tr>\n",
       "      <th>0</th>\n",
       "      <td>9398</td>\n",
       "      <td>6470</td>\n",
       "      <td>6083</td>\n",
       "      <td>1355</td>\n",
       "      <td>1209</td>\n",
       "      <td>1197</td>\n",
       "      <td>1149</td>\n",
       "      <td>1006</td>\n",
       "      <td>874</td>\n",
       "      <td>583</td>\n",
       "      <td>...</td>\n",
       "      <td>1</td>\n",
       "      <td>1</td>\n",
       "      <td>1</td>\n",
       "      <td>1</td>\n",
       "      <td>1</td>\n",
       "      <td>1</td>\n",
       "      <td>1</td>\n",
       "      <td>1</td>\n",
       "      <td>1</td>\n",
       "      <td>1</td>\n",
       "    </tr>\n",
       "  </tbody>\n",
       "</table>\n",
       "<p>1 rows × 182 columns</p>\n",
       "</div>"
      ],
      "text/plain": [
       "   drama  comedy  unknown  action  horror  thriller        romance  western  \\\n",
       "0   9398    6470     6083    1355    1209      1197  1149     1006      874   \n",
       "\n",
       "   crime  ...  kalyan  allari  rajendra  by  keiji  jidai  chanbara  mocatsu  \\\n",
       "0    583  ...       1       1         1   1      1      1         1        1   \n",
       "\n",
       "   splatter  dark  \n",
       "0         1     1  \n",
       "\n",
       "[1 rows x 182 columns]"
      ]
     },
     "execution_count": 14,
     "metadata": {},
     "output_type": "execute_result"
    }
   ],
   "source": [
    "#count how many times each genre appears in the original dataset\n",
    "genCount = {}\n",
    "for genre in data.Genre:\n",
    "    if genre in genCount:\n",
    "        genCount[genre] += 1\n",
    "    else:\n",
    "        genCount[genre] = 1\n",
    "#order in descending order\n",
    "genCount = dict( sorted(genCount.items(), key=operator.itemgetter(1),reverse=True))\n",
    "\n",
    "genCount = pd.DataFrame([genCount])\n",
    "genCount.head(genCount.shape[1])"
   ]
  },
  {
   "cell_type": "code",
   "execution_count": 15,
   "metadata": {},
   "outputs": [
    {
     "data": {
      "text/html": [
       "<div>\n",
       "<style scoped>\n",
       "    .dataframe tbody tr th:only-of-type {\n",
       "        vertical-align: middle;\n",
       "    }\n",
       "\n",
       "    .dataframe tbody tr th {\n",
       "        vertical-align: top;\n",
       "    }\n",
       "\n",
       "    .dataframe thead th {\n",
       "        text-align: right;\n",
       "    }\n",
       "</style>\n",
       "<table border=\"1\" class=\"dataframe\">\n",
       "  <thead>\n",
       "    <tr style=\"text-align: right;\">\n",
       "      <th></th>\n",
       "      <th>0</th>\n",
       "    </tr>\n",
       "  </thead>\n",
       "  <tbody>\n",
       "    <tr>\n",
       "      <th>drama</th>\n",
       "      <td>9398</td>\n",
       "    </tr>\n",
       "    <tr>\n",
       "      <th>comedy</th>\n",
       "      <td>6470</td>\n",
       "    </tr>\n",
       "    <tr>\n",
       "      <th>unknown</th>\n",
       "      <td>6083</td>\n",
       "    </tr>\n",
       "    <tr>\n",
       "      <th>action</th>\n",
       "      <td>1355</td>\n",
       "    </tr>\n",
       "    <tr>\n",
       "      <th>horror</th>\n",
       "      <td>1209</td>\n",
       "    </tr>\n",
       "    <tr>\n",
       "      <th>...</th>\n",
       "      <td>...</td>\n",
       "    </tr>\n",
       "    <tr>\n",
       "      <th>jidai</th>\n",
       "      <td>1</td>\n",
       "    </tr>\n",
       "    <tr>\n",
       "      <th>chanbara</th>\n",
       "      <td>1</td>\n",
       "    </tr>\n",
       "    <tr>\n",
       "      <th>mocatsu</th>\n",
       "      <td>1</td>\n",
       "    </tr>\n",
       "    <tr>\n",
       "      <th>splatter</th>\n",
       "      <td>1</td>\n",
       "    </tr>\n",
       "    <tr>\n",
       "      <th>dark</th>\n",
       "      <td>1</td>\n",
       "    </tr>\n",
       "  </tbody>\n",
       "</table>\n",
       "<p>182 rows × 1 columns</p>\n",
       "</div>"
      ],
      "text/plain": [
       "             0\n",
       "drama     9398\n",
       "comedy    6470\n",
       "unknown   6083\n",
       "action    1355\n",
       "horror    1209\n",
       "...        ...\n",
       "jidai        1\n",
       "chanbara     1\n",
       "mocatsu      1\n",
       "splatter     1\n",
       "dark         1\n",
       "\n",
       "[182 rows x 1 columns]"
      ]
     },
     "execution_count": 15,
     "metadata": {},
     "output_type": "execute_result"
    }
   ],
   "source": [
    "#transpose to make it easier to view\n",
    "genCount.transpose()"
   ]
  },
  {
   "cell_type": "code",
   "execution_count": 16,
   "metadata": {},
   "outputs": [],
   "source": [
    "#drama comedy and unknwon appear far more than any other genre, i think this leads the model to being biased towards those genres\n",
    "#might be worth removing the entries with no genre and retrain the model to see if this effects performance"
   ]
  },
  {
   "cell_type": "code",
   "execution_count": null,
   "metadata": {},
   "outputs": [],
   "source": []
  }
 ],
 "metadata": {
  "kernelspec": {
   "display_name": "Python 3",
   "language": "python",
   "name": "python3"
  },
  "language_info": {
   "codemirror_mode": {
    "name": "ipython",
    "version": 3
   },
   "file_extension": ".py",
   "mimetype": "text/x-python",
   "name": "python",
   "nbconvert_exporter": "python",
   "pygments_lexer": "ipython3",
   "version": "3.7.4"
  }
 },
 "nbformat": 4,
 "nbformat_minor": 2
}
