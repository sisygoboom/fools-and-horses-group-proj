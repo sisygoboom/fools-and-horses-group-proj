{
 "cells": [
  {
   "cell_type": "code",
   "execution_count": 17,
   "metadata": {},
   "outputs": [],
   "source": [
    "import numpy as np\n",
    "import pandas as pd \n",
    "from modelLoader import fileManager"
   ]
  },
  {
   "cell_type": "code",
   "execution_count": 18,
   "metadata": {},
   "outputs": [],
   "source": [
    "fm = fileManager()"
   ]
  },
  {
   "cell_type": "code",
   "execution_count": 19,
   "metadata": {},
   "outputs": [],
   "source": [
    "#load new data\n",
    "data = fm.loadIt(\"./Data/balancedData.pickle\")"
   ]
  },
  {
   "cell_type": "code",
   "execution_count": 20,
   "metadata": {},
   "outputs": [
    {
     "data": {
      "text/plain": [
       "(23383, 3)"
      ]
     },
     "execution_count": 20,
     "metadata": {},
     "output_type": "execute_result"
    }
   ],
   "source": [
    "data.shape"
   ]
  },
  {
   "cell_type": "code",
   "execution_count": 21,
   "metadata": {},
   "outputs": [
    {
     "data": {
      "text/plain": [
       "Index(['Title', 'Plot', 'Genre'], dtype='object')"
      ]
     },
     "execution_count": 21,
     "metadata": {},
     "output_type": "execute_result"
    }
   ],
   "source": [
    "data.columns\n"
   ]
  },
  {
   "cell_type": "code",
   "execution_count": 22,
   "metadata": {},
   "outputs": [],
   "source": [
    "#get an array of each unique genre in the data\n",
    "dataGenres = pd.unique(data.Genre)"
   ]
  },
  {
   "cell_type": "code",
   "execution_count": 23,
   "metadata": {},
   "outputs": [
    {
     "name": "stdout",
     "output_type": "stream",
     "text": [
      "['western' 'film' 'adventure' 'crime' 'mystery' 'animated' 'war' 'musical'\n",
      " 'animation' 'science' 'Action' 'Comedy' 'Adventure' 'Drama' 'Fantasy'\n",
      " 'Mystery' 'Romance' 'Western' 'History' 'SciFi' 'Sport']\n"
     ]
    }
   ],
   "source": [
    "print(dataGenres)"
   ]
  },
  {
   "cell_type": "code",
   "execution_count": 24,
   "metadata": {},
   "outputs": [],
   "source": [
    "#function to count number of movies for each genre\n",
    "def counter(genre_list, column, dataset):\n",
    "    counter = {}\n",
    "    for genre in dataset[column]:\n",
    "        if genre not in counter:\n",
    "            counter[genre] = 1\n",
    "        else:\n",
    "            counter[genre] += 1\n",
    "    return counter\n",
    "        "
   ]
  },
  {
   "cell_type": "code",
   "execution_count": 25,
   "metadata": {},
   "outputs": [
    {
     "data": {
      "text/plain": [
       "{'western': 1748,\n",
       " 'film': 930,\n",
       " 'adventure': 1128,\n",
       " 'crime': 1166,\n",
       " 'mystery': 630,\n",
       " 'animated': 616,\n",
       " 'war': 752,\n",
       " 'musical': 982,\n",
       " 'animation': 544,\n",
       " 'science': 890,\n",
       " 'Action': 1126,\n",
       " 'Comedy': 2000,\n",
       " 'Adventure': 1908,\n",
       " 'Drama': 2000,\n",
       " 'Fantasy': 502,\n",
       " 'Mystery': 711,\n",
       " 'Romance': 713,\n",
       " 'Western': 2000,\n",
       " 'History': 1221,\n",
       " 'SciFi': 726,\n",
       " 'Sport': 1090}"
      ]
     },
     "execution_count": 25,
     "metadata": {},
     "output_type": "execute_result"
    }
   ],
   "source": [
    "#get a count of the number of movies for each genre\n",
    "counter(dataGenres, 'Genre', data)"
   ]
  },
  {
   "cell_type": "code",
   "execution_count": null,
   "metadata": {},
   "outputs": [],
   "source": []
  }
 ],
 "metadata": {
  "kernelspec": {
   "display_name": "Python 3",
   "language": "python",
   "name": "python3"
  },
  "language_info": {
   "codemirror_mode": {
    "name": "ipython",
    "version": 3
   },
   "file_extension": ".py",
   "mimetype": "text/x-python",
   "name": "python",
   "nbconvert_exporter": "python",
   "pygments_lexer": "ipython3",
   "version": "3.7.0"
  }
 },
 "nbformat": 4,
 "nbformat_minor": 2
}
